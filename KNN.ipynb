{
  "nbformat": 4,
  "nbformat_minor": 0,
  "metadata": {
    "colab": {
      "name": "KNN",
      "provenance": [],
      "collapsed_sections": [],
      "toc_visible": true
    },
    "kernelspec": {
      "display_name": "Python 3",
      "name": "python3"
    }
  },
  "cells": [
    {
      "cell_type": "markdown",
      "metadata": {
        "id": "NpIGdBowHgwo",
        "colab_type": "text"
      },
      "source": [
        "Classificação: Baseado em instancia.\n",
        "KNN: K- Norest Neighbors, refere-se a um algoritmo de aprendizagem supervisionada, usado no campo de data mining e machine\n",
        "learning. Ele é um tipo de classificador onde o aprendizado se baseia no qão similar. É um dado, vetor, do outro.\n",
        "O treinamento é formado por vetores de X dimensões."
      ]
    },
    {
      "cell_type": "code",
      "metadata": {
        "id": "-VAcTb0M91Ll",
        "colab_type": "code",
        "outputId": "f45111a1-4a30-4b86-848e-083a209ee935",
        "colab": {
          "base_uri": "https://localhost:8080/",
          "height": 34
        }
      },
      "source": [
        "import numpy as np \n",
        "\n",
        "def distance(p1, p2): \n",
        "\treturn np.sqrt(np.sum(np.power(p2-p1, 2))) #distance between two points \n",
        "p1 = np.array([1, 1]) #coordinate x = 1, y = 1 \n",
        "p2 = np.array([4, 4]) #coordinate x = 4, y = 4 \n",
        "distance(p1, p2) \n"
      ],
      "execution_count": 0,
      "outputs": [
        {
          "output_type": "execute_result",
          "data": {
            "text/plain": [
              "4.242640687119285"
            ]
          },
          "metadata": {
            "tags": []
          },
          "execution_count": 54
        }
      ]
    },
    {
      "cell_type": "markdown",
      "metadata": {
        "id": "RSCiUAR6GScC",
        "colab_type": "text"
      },
      "source": [
        "recebe um dado não classificado, e outros dados não classificados"
      ]
    },
    {
      "cell_type": "code",
      "metadata": {
        "id": "EmhaxCzvBhq1",
        "colab_type": "code",
        "outputId": "8f6191d6-b765-4cce-e606-4bf2959692a5",
        "colab": {
          "base_uri": "https://localhost:8080/",
          "height": 129
        }
      },
      "source": [
        "import numpy as np \n",
        "import random \n",
        "import scipy.stats as ss \n",
        "import matplotlib.pyplot as plt \n",
        "\n",
        "points = np.array([[1, 1], [1, 2], [1, 3], [2, 1], [2, 2], [2, 3], [3, 1], [3, 2], [3, 3]]) \n",
        "#points = existing points \n",
        "p = np.array([2.5, 2]) #p = point we wish to insert \n",
        "\n",
        "def majority_vote(votes): \n",
        "\tvote_counts = {} \n",
        "\tfor vote in votes: \n",
        "\t\tif vote in vote_counts: \n",
        "\t\tvote_counts[vote]+= 1\n",
        "\t\telse: \n",
        "\t\t\tvote_counts[vote]= 1\n",
        "\twinners = [] \n",
        "\tmax_count = max(vote_counts.values()) \n",
        "\tfor vote, count in vote_counts.items(): \n",
        "\t\tif count == max_count: \n",
        "\t\t\twinners.append(vote) \n",
        "\treturn random.choice(winners) #returns winner randomly if there are more than 1 winner \n",
        "\n",
        "#>>>votes =[1, 2, 3, 2, 2, 3, 1, 1, 2, 3, 1, 1, 1, 2, 3, 3, 3, 2, 2, 2, 3, 2, 3, 1, 1, 2] \n",
        "#sample vote counts above \n",
        "# >>>vote_counts = majority_vote(votes) \n",
        "\n",
        "def majority_vote_short(votes): \n",
        "\tmode, count = ss.mstats.mode(votes) \n",
        "\treturn mode \n",
        "\n",
        "def find_nearest_neighbours(p, points, k = 5): #algorithm to find the nearest neighbours \n",
        "\tdistances = np.zeros(points.shape[0]) \n",
        "\tfor i in range(len(distances)): \n",
        "\t\tdistances[i]= distance(p, points[i]) \n",
        "\tind = np.argsort(distances)\t #returns index, according to sorted values in array \n",
        "\treturn ind[:k] \n",
        "\n",
        "ind = find_nearest_neighbours(p, points, 2);print(points[ind]) \n",
        "#gives the nearest neighbour's for this sample case \n",
        "\n",
        "plt.plot(points[:, 0], points[:, 1], \"ro\") \n",
        "plt.plot(p[0], p[1], \"bo\") \n",
        "plt.axis([0.5, 3.5, 0.5, 3.5]) \n",
        "plt.show() \n"
      ],
      "execution_count": 0,
      "outputs": [
        {
          "output_type": "error",
          "ename": "IndentationError",
          "evalue": "ignored",
          "traceback": [
            "\u001b[0;36m  File \u001b[0;32m\"<ipython-input-55-ed3c45b49ea4>\"\u001b[0;36m, line \u001b[0;32m14\u001b[0m\n\u001b[0;31m    vote_counts[vote]+= 1\u001b[0m\n\u001b[0m              ^\u001b[0m\n\u001b[0;31mIndentationError\u001b[0m\u001b[0;31m:\u001b[0m expected an indented block\n"
          ]
        }
      ]
    },
    {
      "cell_type": "markdown",
      "metadata": {
        "id": "LEh0mrkDGbKb",
        "colab_type": "text"
      },
      "source": [
        "Obtem as X (no caso essa variavel X é o paramentro K) menores distancias."
      ]
    },
    {
      "cell_type": "code",
      "metadata": {
        "id": "pEaXo4wOBoI_",
        "colab_type": "code",
        "outputId": "3aa55e81-49b4-4ca4-e97b-f4ee167e10e1",
        "colab": {
          "base_uri": "https://localhost:8080/",
          "height": 231
        }
      },
      "source": [
        "import numpy as np \n",
        "import random \n",
        "import scipy.stats as ss \n",
        "import matplotlib.pyplot as plt \n",
        "\n",
        "''' add the functions and libraries from previous programmes '''\n",
        "\n",
        "def knn_predict(p, points, outcomes, k = 5): \n",
        "\tind = find_nearest_neighbours(p, points, k) \n",
        "\treturn majority_vote(outcomes[ind]) \n",
        "\n",
        "outcomes = np.array([0, 0, 0, 0, 1, 1, 1, 1, 1]) \n",
        "knn_predict(np.array([2.5, 2.7]), points, outcomes, k = 2) \n",
        "\n",
        "def generate_synth_data(n = 50): \n",
        "\tpoints = np.concatenate((ss.norm(0, 1).rvs((n, 2)), ss.norm(1, 1).rvs((n, 2))), axis = 0) \n",
        "\toutcomes = np.concatenate((np.repeat(0, n), np.repeat(1, n))) \n",
        "\treturn (points, outcomes) \n",
        "\n",
        "n = 20\n",
        "plt.figure() \n",
        "plt.plot(points[:n, 0], points[:n, 1], \"ro\") \n",
        "plt.plot(points[n:, 0], points[n:, 1], \"bo\") \n",
        "plt.show() \n"
      ],
      "execution_count": 0,
      "outputs": [
        {
          "output_type": "error",
          "ename": "NameError",
          "evalue": "ignored",
          "traceback": [
            "\u001b[0;31m---------------------------------------------------------------------------\u001b[0m",
            "\u001b[0;31mNameError\u001b[0m                                 Traceback (most recent call last)",
            "\u001b[0;32m<ipython-input-56-ab498be37b09>\u001b[0m in \u001b[0;36m<module>\u001b[0;34m()\u001b[0m\n\u001b[1;32m     11\u001b[0m \u001b[0;34m\u001b[0m\u001b[0m\n\u001b[1;32m     12\u001b[0m \u001b[0moutcomes\u001b[0m \u001b[0;34m=\u001b[0m \u001b[0mnp\u001b[0m\u001b[0;34m.\u001b[0m\u001b[0marray\u001b[0m\u001b[0;34m(\u001b[0m\u001b[0;34m[\u001b[0m\u001b[0;36m0\u001b[0m\u001b[0;34m,\u001b[0m \u001b[0;36m0\u001b[0m\u001b[0;34m,\u001b[0m \u001b[0;36m0\u001b[0m\u001b[0;34m,\u001b[0m \u001b[0;36m0\u001b[0m\u001b[0;34m,\u001b[0m \u001b[0;36m1\u001b[0m\u001b[0;34m,\u001b[0m \u001b[0;36m1\u001b[0m\u001b[0;34m,\u001b[0m \u001b[0;36m1\u001b[0m\u001b[0;34m,\u001b[0m \u001b[0;36m1\u001b[0m\u001b[0;34m,\u001b[0m \u001b[0;36m1\u001b[0m\u001b[0;34m]\u001b[0m\u001b[0;34m)\u001b[0m\u001b[0;34m\u001b[0m\u001b[0;34m\u001b[0m\u001b[0m\n\u001b[0;32m---> 13\u001b[0;31m \u001b[0mknn_predict\u001b[0m\u001b[0;34m(\u001b[0m\u001b[0mnp\u001b[0m\u001b[0;34m.\u001b[0m\u001b[0marray\u001b[0m\u001b[0;34m(\u001b[0m\u001b[0;34m[\u001b[0m\u001b[0;36m2.5\u001b[0m\u001b[0;34m,\u001b[0m \u001b[0;36m2.7\u001b[0m\u001b[0;34m]\u001b[0m\u001b[0;34m)\u001b[0m\u001b[0;34m,\u001b[0m \u001b[0mpoints\u001b[0m\u001b[0;34m,\u001b[0m \u001b[0moutcomes\u001b[0m\u001b[0;34m,\u001b[0m \u001b[0mk\u001b[0m \u001b[0;34m=\u001b[0m \u001b[0;36m2\u001b[0m\u001b[0;34m)\u001b[0m\u001b[0;34m\u001b[0m\u001b[0;34m\u001b[0m\u001b[0m\n\u001b[0m\u001b[1;32m     14\u001b[0m \u001b[0;34m\u001b[0m\u001b[0m\n\u001b[1;32m     15\u001b[0m \u001b[0;32mdef\u001b[0m \u001b[0mgenerate_synth_data\u001b[0m\u001b[0;34m(\u001b[0m\u001b[0mn\u001b[0m \u001b[0;34m=\u001b[0m \u001b[0;36m50\u001b[0m\u001b[0;34m)\u001b[0m\u001b[0;34m:\u001b[0m\u001b[0;34m\u001b[0m\u001b[0;34m\u001b[0m\u001b[0m\n",
            "\u001b[0;31mNameError\u001b[0m: name 'points' is not defined"
          ]
        }
      ]
    },
    {
      "cell_type": "markdown",
      "metadata": {
        "id": "1Z-6lA8YGme4",
        "colab_type": "text"
      },
      "source": [
        "Verifica a classe de cada um dos dados que tiverem a menor distancia e conta a quantidade de cada classe que aparece"
      ]
    },
    {
      "cell_type": "code",
      "metadata": {
        "id": "AjJFW4ruB2Pk",
        "colab_type": "code",
        "outputId": "5118920a-7e12-4c5a-d2b5-8597864ada2a",
        "colab": {
          "base_uri": "https://localhost:8080/",
          "height": 231
        }
      },
      "source": [
        "import numpy as np \n",
        "import random \n",
        "import scipy.stats as ss \n",
        "import matplotlib.pyplot as plt \n",
        "\n",
        "def make_prediction_grid(predictors, outcomes, limits, h, k): \n",
        "\t(x_min, x_max, y_min, y_max) = limits \n",
        "\txs = np.arange(x_min, x_max, h) \n",
        "\tys = np.arange(y_min, y_max, h) \n",
        "\txx, yy = np.meshgrid(xs, ys) \n",
        "\n",
        "\tprediction_grid = np.zeros(xx.shape, dtype = int) \n",
        "\tfor i, x in enumerate(xs): \n",
        "\t\tfor j, y in enumerate(ys): \n",
        "\t\t\tp = np.array([x, y]) \n",
        "\t\t\tprediction_grid[j, i] = knn_predict(p, predictors, outcomes, k) \n",
        "\treturn (xx, yy, prediction_grid) \n",
        "\n",
        "def plot_prediction_grid (xx, yy, prediction_grid, filename): \n",
        "\t\"\"\" Plot KNN predictions for every point on the grid.\"\"\"\n",
        "\tfrom matplotlib.colors import ListedColormap \n",
        "\tbackground_colormap = ListedColormap ([\"hotpink\", \"lightskyblue\", \"yellowgreen\"]) \n",
        "\tobservation_colormap = ListedColormap ([\"red\", \"blue\", \"green\"]) \n",
        "\tplt.figure(figsize =(10, 10)) \n",
        "\tplt.pcolormesh(xx, yy, prediction_grid, cmap = background_colormap, alpha = 0.5) \n",
        "\tplt.scatter(predictors[:, 0], predictors [:, 1], c = outcomes, cmap = observation_colormap, s = 50) \n",
        "\tplt.xlabel('Variable 1'); plt.ylabel('Variable 2') \n",
        "\tplt.xticks(()); plt.yticks(()) \n",
        "\tplt.xlim (np.min(xx), np.max(xx)) \n",
        "\tplt.ylim (np.min(yy), np.max(yy)) \n",
        "\tplt.savefig(filename) \n",
        "\n",
        "(predictors, outcomes) = generate_synth_data() \n",
        "# >>>predictors.shape \n",
        "# >>>outcomes.shape \n",
        "k = 5; filename =\"knn_synth_5.pdf\"; limits =(-3, 4, -3, 4); h = 0.1\n",
        "(xx, yy, prediction_grid) = make_prediction_grid(predictors, outcomes, limits, h, k) \n",
        "plot_prediction_grid(xx, yy, prediction_grid, filename) \n",
        "plt.show() \n"
      ],
      "execution_count": 0,
      "outputs": [
        {
          "output_type": "error",
          "ename": "NameError",
          "evalue": "ignored",
          "traceback": [
            "\u001b[0;31m---------------------------------------------------------------------------\u001b[0m",
            "\u001b[0;31mNameError\u001b[0m                                 Traceback (most recent call last)",
            "\u001b[0;32m<ipython-input-57-7a5722ea6e0a>\u001b[0m in \u001b[0;36m<module>\u001b[0;34m()\u001b[0m\n\u001b[1;32m     31\u001b[0m         \u001b[0mplt\u001b[0m\u001b[0;34m.\u001b[0m\u001b[0msavefig\u001b[0m\u001b[0;34m(\u001b[0m\u001b[0mfilename\u001b[0m\u001b[0;34m)\u001b[0m\u001b[0;34m\u001b[0m\u001b[0;34m\u001b[0m\u001b[0m\n\u001b[1;32m     32\u001b[0m \u001b[0;34m\u001b[0m\u001b[0m\n\u001b[0;32m---> 33\u001b[0;31m \u001b[0;34m(\u001b[0m\u001b[0mpredictors\u001b[0m\u001b[0;34m,\u001b[0m \u001b[0moutcomes\u001b[0m\u001b[0;34m)\u001b[0m \u001b[0;34m=\u001b[0m \u001b[0mgenerate_synth_data\u001b[0m\u001b[0;34m(\u001b[0m\u001b[0;34m)\u001b[0m\u001b[0;34m\u001b[0m\u001b[0;34m\u001b[0m\u001b[0m\n\u001b[0m\u001b[1;32m     34\u001b[0m \u001b[0;31m# >>>predictors.shape\u001b[0m\u001b[0;34m\u001b[0m\u001b[0;34m\u001b[0m\u001b[0;34m\u001b[0m\u001b[0m\n\u001b[1;32m     35\u001b[0m \u001b[0;31m# >>>outcomes.shape\u001b[0m\u001b[0;34m\u001b[0m\u001b[0;34m\u001b[0m\u001b[0;34m\u001b[0m\u001b[0m\n",
            "\u001b[0;31mNameError\u001b[0m: name 'generate_synth_data' is not defined"
          ]
        }
      ]
    },
    {
      "cell_type": "markdown",
      "metadata": {
        "id": "82Ais6R4GweG",
        "colab_type": "text"
      },
      "source": [
        "Toma como resultado a classe que mais apareceu dentro dos dados que tiveram as menores distancias "
      ]
    },
    {
      "cell_type": "code",
      "metadata": {
        "id": "DtVlabZmB6eM",
        "colab_type": "code",
        "outputId": "23c13b56-4782-47a3-8f18-82ccf6e9c668",
        "colab": {
          "base_uri": "https://localhost:8080/",
          "height": 631
        }
      },
      "source": [
        "from sklearn import datasets \n",
        "import numpy as np \n",
        "import random \n",
        "import matplotlib.pyplot as plt \n",
        "\n",
        "iris = datasets.load_iris() \n",
        "\t# >>>iris[\"data\"] \n",
        "predictors = iris.data[:, 0:2] \n",
        "outcomes = iris.target \n",
        "\n",
        "plt.plot(predictors[outcomes == 0][:, 0], predictors[outcomes == 0][:, 1], \"ro\") \n",
        "plt.plot(predictors[outcomes == 1][:, 0], predictors[outcomes == 1][:, 1], \"go\") \n",
        "plt.plot(predictors[outcomes == 2][:, 0], predictors[outcomes == 2][:, 1], \"bo\") \n",
        "\n",
        "k = 5; filename =\"iris_grid.pdf\"; limits =(4, 8, 1.5, 4.5); h = 0.1\n",
        "(xx, yy, prediction_grid) = make_prediction_grid(predictors, outcomes, limits, h, k) \n",
        "plot_prediction_grid(xx, yy, prediction_grid, filename) \n",
        "plt.show() \n",
        "\n",
        "from sklearn.neighbors import KNeighborsClassifier #predictions from skikit \n",
        "knn = KNeighborsClassifier(n_neighbors = 5) \n",
        "knn.fit(predictors, outcomes) \n",
        "sk_predictions = knn.predict(predictors) \n",
        "\n",
        "my_predictions = np.array([knn_predict(p, predictors, outcomes, 5) for p in predictors]) \n",
        "\n",
        "# >>>sk_predictions == my_predictions \n",
        "# >>>np.mean(sk_predictions == my_predictions) \n",
        "print(\" prediction by scikit learn : \") \n",
        "print(100 * np.mean(sk_predictions == outcomes)) \n",
        "print(\" prediction by own model : \") \n",
        "print(100 * np.mean(my_predictions == outcomes))\t \n",
        "# our homemade predicter is actually somewhat better \n"
      ],
      "execution_count": 0,
      "outputs": [
        {
          "output_type": "error",
          "ename": "NameError",
          "evalue": "ignored",
          "traceback": [
            "\u001b[0;31m---------------------------------------------------------------------------\u001b[0m",
            "\u001b[0;31mNameError\u001b[0m                                 Traceback (most recent call last)",
            "\u001b[0;32m<ipython-input-58-956be19b0f53>\u001b[0m in \u001b[0;36m<module>\u001b[0;34m()\u001b[0m\n\u001b[1;32m     14\u001b[0m \u001b[0;34m\u001b[0m\u001b[0m\n\u001b[1;32m     15\u001b[0m \u001b[0mk\u001b[0m \u001b[0;34m=\u001b[0m \u001b[0;36m5\u001b[0m\u001b[0;34m;\u001b[0m \u001b[0mfilename\u001b[0m \u001b[0;34m=\u001b[0m\u001b[0;34m\"iris_grid.pdf\"\u001b[0m\u001b[0;34m;\u001b[0m \u001b[0mlimits\u001b[0m \u001b[0;34m=\u001b[0m\u001b[0;34m(\u001b[0m\u001b[0;36m4\u001b[0m\u001b[0;34m,\u001b[0m \u001b[0;36m8\u001b[0m\u001b[0;34m,\u001b[0m \u001b[0;36m1.5\u001b[0m\u001b[0;34m,\u001b[0m \u001b[0;36m4.5\u001b[0m\u001b[0;34m)\u001b[0m\u001b[0;34m;\u001b[0m \u001b[0mh\u001b[0m \u001b[0;34m=\u001b[0m \u001b[0;36m0.1\u001b[0m\u001b[0;34m\u001b[0m\u001b[0;34m\u001b[0m\u001b[0m\n\u001b[0;32m---> 16\u001b[0;31m \u001b[0;34m(\u001b[0m\u001b[0mxx\u001b[0m\u001b[0;34m,\u001b[0m \u001b[0myy\u001b[0m\u001b[0;34m,\u001b[0m \u001b[0mprediction_grid\u001b[0m\u001b[0;34m)\u001b[0m \u001b[0;34m=\u001b[0m \u001b[0mmake_prediction_grid\u001b[0m\u001b[0;34m(\u001b[0m\u001b[0mpredictors\u001b[0m\u001b[0;34m,\u001b[0m \u001b[0moutcomes\u001b[0m\u001b[0;34m,\u001b[0m \u001b[0mlimits\u001b[0m\u001b[0;34m,\u001b[0m \u001b[0mh\u001b[0m\u001b[0;34m,\u001b[0m \u001b[0mk\u001b[0m\u001b[0;34m)\u001b[0m\u001b[0;34m\u001b[0m\u001b[0;34m\u001b[0m\u001b[0m\n\u001b[0m\u001b[1;32m     17\u001b[0m \u001b[0mplot_prediction_grid\u001b[0m\u001b[0;34m(\u001b[0m\u001b[0mxx\u001b[0m\u001b[0;34m,\u001b[0m \u001b[0myy\u001b[0m\u001b[0;34m,\u001b[0m \u001b[0mprediction_grid\u001b[0m\u001b[0;34m,\u001b[0m \u001b[0mfilename\u001b[0m\u001b[0;34m)\u001b[0m\u001b[0;34m\u001b[0m\u001b[0;34m\u001b[0m\u001b[0m\n\u001b[1;32m     18\u001b[0m \u001b[0mplt\u001b[0m\u001b[0;34m.\u001b[0m\u001b[0mshow\u001b[0m\u001b[0;34m(\u001b[0m\u001b[0;34m)\u001b[0m\u001b[0;34m\u001b[0m\u001b[0;34m\u001b[0m\u001b[0m\n",
            "\u001b[0;32m<ipython-input-57-7a5722ea6e0a>\u001b[0m in \u001b[0;36mmake_prediction_grid\u001b[0;34m(predictors, outcomes, limits, h, k)\u001b[0m\n\u001b[1;32m     14\u001b[0m                 \u001b[0;32mfor\u001b[0m \u001b[0mj\u001b[0m\u001b[0;34m,\u001b[0m \u001b[0my\u001b[0m \u001b[0;32min\u001b[0m \u001b[0menumerate\u001b[0m\u001b[0;34m(\u001b[0m\u001b[0mys\u001b[0m\u001b[0;34m)\u001b[0m\u001b[0;34m:\u001b[0m\u001b[0;34m\u001b[0m\u001b[0;34m\u001b[0m\u001b[0m\n\u001b[1;32m     15\u001b[0m                         \u001b[0mp\u001b[0m \u001b[0;34m=\u001b[0m \u001b[0mnp\u001b[0m\u001b[0;34m.\u001b[0m\u001b[0marray\u001b[0m\u001b[0;34m(\u001b[0m\u001b[0;34m[\u001b[0m\u001b[0mx\u001b[0m\u001b[0;34m,\u001b[0m \u001b[0my\u001b[0m\u001b[0;34m]\u001b[0m\u001b[0;34m)\u001b[0m\u001b[0;34m\u001b[0m\u001b[0;34m\u001b[0m\u001b[0m\n\u001b[0;32m---> 16\u001b[0;31m                         \u001b[0mprediction_grid\u001b[0m\u001b[0;34m[\u001b[0m\u001b[0mj\u001b[0m\u001b[0;34m,\u001b[0m \u001b[0mi\u001b[0m\u001b[0;34m]\u001b[0m \u001b[0;34m=\u001b[0m \u001b[0mknn_predict\u001b[0m\u001b[0;34m(\u001b[0m\u001b[0mp\u001b[0m\u001b[0;34m,\u001b[0m \u001b[0mpredictors\u001b[0m\u001b[0;34m,\u001b[0m \u001b[0moutcomes\u001b[0m\u001b[0;34m,\u001b[0m \u001b[0mk\u001b[0m\u001b[0;34m)\u001b[0m\u001b[0;34m\u001b[0m\u001b[0;34m\u001b[0m\u001b[0m\n\u001b[0m\u001b[1;32m     17\u001b[0m         \u001b[0;32mreturn\u001b[0m \u001b[0;34m(\u001b[0m\u001b[0mxx\u001b[0m\u001b[0;34m,\u001b[0m \u001b[0myy\u001b[0m\u001b[0;34m,\u001b[0m \u001b[0mprediction_grid\u001b[0m\u001b[0;34m)\u001b[0m\u001b[0;34m\u001b[0m\u001b[0;34m\u001b[0m\u001b[0m\n\u001b[1;32m     18\u001b[0m \u001b[0;34m\u001b[0m\u001b[0m\n",
            "\u001b[0;32m<ipython-input-56-ab498be37b09>\u001b[0m in \u001b[0;36mknn_predict\u001b[0;34m(p, points, outcomes, k)\u001b[0m\n\u001b[1;32m      7\u001b[0m \u001b[0;34m\u001b[0m\u001b[0m\n\u001b[1;32m      8\u001b[0m \u001b[0;32mdef\u001b[0m \u001b[0mknn_predict\u001b[0m\u001b[0;34m(\u001b[0m\u001b[0mp\u001b[0m\u001b[0;34m,\u001b[0m \u001b[0mpoints\u001b[0m\u001b[0;34m,\u001b[0m \u001b[0moutcomes\u001b[0m\u001b[0;34m,\u001b[0m \u001b[0mk\u001b[0m \u001b[0;34m=\u001b[0m \u001b[0;36m5\u001b[0m\u001b[0;34m)\u001b[0m\u001b[0;34m:\u001b[0m\u001b[0;34m\u001b[0m\u001b[0;34m\u001b[0m\u001b[0m\n\u001b[0;32m----> 9\u001b[0;31m         \u001b[0mind\u001b[0m \u001b[0;34m=\u001b[0m \u001b[0mfind_nearest_neighbours\u001b[0m\u001b[0;34m(\u001b[0m\u001b[0mp\u001b[0m\u001b[0;34m,\u001b[0m \u001b[0mpoints\u001b[0m\u001b[0;34m,\u001b[0m \u001b[0mk\u001b[0m\u001b[0;34m)\u001b[0m\u001b[0;34m\u001b[0m\u001b[0;34m\u001b[0m\u001b[0m\n\u001b[0m\u001b[1;32m     10\u001b[0m         \u001b[0;32mreturn\u001b[0m \u001b[0mmajority_vote\u001b[0m\u001b[0;34m(\u001b[0m\u001b[0moutcomes\u001b[0m\u001b[0;34m[\u001b[0m\u001b[0mind\u001b[0m\u001b[0;34m]\u001b[0m\u001b[0;34m)\u001b[0m\u001b[0;34m\u001b[0m\u001b[0;34m\u001b[0m\u001b[0m\n\u001b[1;32m     11\u001b[0m \u001b[0;34m\u001b[0m\u001b[0m\n",
            "\u001b[0;31mNameError\u001b[0m: name 'find_nearest_neighbours' is not defined"
          ]
        },
        {
          "output_type": "display_data",
          "data": {
            "image/png": "[encoded data removed]",
            "text/plain": [
              "<Figure size 432x288 with 1 Axes>"
            ]
          },
          "metadata": {
            "tags": []
          }
        }
      ]
    },
    {
      "cell_type": "markdown",
      "metadata": {
        "id": "6FHJgI-vG53J",
        "colab_type": "text"
      },
      "source": [
        "Classica o novo dado com a classe tomada como resultado da classificação"
      ]
    },
    {
      "cell_type": "markdown",
      "metadata": {
        "id": "8BtRUZDUBbTy",
        "colab_type": "text"
      },
      "source": [
        ""
      ]
    },
    {
      "cell_type": "markdown",
      "metadata": {
        "id": "1m3AkKUuBbNu",
        "colab_type": "text"
      },
      "source": [
        ""
      ]
    }
  ]
}